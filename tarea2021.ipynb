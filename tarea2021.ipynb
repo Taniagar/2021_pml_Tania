{
 "cells": [
  {
   "cell_type": "markdown",
   "id": "01e8586b-f270-4503-a48f-b6f36f7f6b4e",
   "metadata": {},
   "source": [
    "* Use asterisks\n",
    "* to create\n",
    "* bullet lists"
   ]
  },
  {
   "cell_type": "markdown",
   "id": "1c117d8b-a5f2-415d-9fbc-09843852de7c",
   "metadata": {},
   "source": [
    "1. Use numbers \n",
    "1. to create \n",
    "1. numbered lists"
   ]
  },
  {
   "cell_type": "markdown",
   "id": "a299b172-2f2f-44ce-8125-6da8144c90d8",
   "metadata": {},
   "source": [
    "* you can use indents\n",
    "    * to create sublists\n",
    "     * of the same time\n",
    "* or sublists\n",
    "    1. of different \n",
    "     1. types"
   ]
  },
  {
   "cell_type": "markdown",
   "id": "38254074-24c3-4f15-92c0-87aff02c2960",
   "metadata": {},
   "source": [
    "# A Level-1 Heading"
   ]
  },
  {
   "cell_type": "markdown",
   "id": "48479d31-7062-4cd5-9dad-7f8ca4cbaa5a",
   "metadata": {},
   "source": [
    "## A Level-2 Heading (etc.)"
   ]
  },
  {
   "cell_type": "markdown",
   "id": "3a9212c6-89c8-49c4-b971-80a5f6815b93",
   "metadata": {},
   "source": [
    "Line breaks\n",
    "don't matter.\n",
    "\n",
    "But blank lines\n",
    "create new paragraphs."
   ]
  },
  {
   "cell_type": "markdown",
   "id": "9fe23827-df9c-4bf6-8ef6-ba56b7be0c47",
   "metadata": {},
   "source": [
    "[Create links](http://software-carpentry.org) with `[...](...)`.\n",
    "Or use [named links][data_carpentry].\n",
    "\n",
    "[data_carpentry]: http://datacarpentry.org"
   ]
  },
  {
   "cell_type": "markdown",
   "id": "06591088-bee1-48c5-b5c7-dd775b6d37db",
   "metadata": {},
   "source": [
    "Create a nested list in a Markdown cell in a notebook that looks like this:\n",
    "\n",
    "1. Get funding.\n",
    "1. Do work.\n",
    "    * Design experiment.\n",
    "    * Collect data.\n",
    "    * Analyze.\n",
    "1. Write up.\n",
    "1. Publish.\n",
    "\n"
   ]
  },
  {
   "cell_type": "code",
   "execution_count": 3,
   "id": "236544b3-950b-4ede-9ea4-55019b1739ed",
   "metadata": {},
   "outputs": [
    {
     "data": {
      "text/plain": [
       "6"
      ]
     },
     "execution_count": 3,
     "metadata": {},
     "output_type": "execute_result"
    }
   ],
   "source": [
    "7+3\n",
    "2*3"
   ]
  },
  {
   "cell_type": "markdown",
   "id": "c92c1e1b-1dbe-4c96-bce3-8b66d04b6ab5",
   "metadata": {},
   "source": [
    "x = 6 * 7 + 12\n",
    "print(x)\n"
   ]
  },
  {
   "cell_type": "markdown",
   "id": "d1f91ca6-7b2d-4ea3-8234-d4128f0bca7a",
   "metadata": {},
   "source": [
    "$\\sum_{i=1}^{N} 2^{-i} \\approx 1$"
   ]
  }
 ],
 "metadata": {
  "kernelspec": {
   "display_name": "Python 3",
   "language": "python",
   "name": "python3"
  },
  "language_info": {
   "codemirror_mode": {
    "name": "ipython",
    "version": 3
   },
   "file_extension": ".py",
   "mimetype": "text/x-python",
   "name": "python",
   "nbconvert_exporter": "python",
   "pygments_lexer": "ipython3",
   "version": "3.8.8"
  }
 },
 "nbformat": 4,
 "nbformat_minor": 5
}
