{
 "cells": [
  {
   "cell_type": "code",
   "execution_count": 2,
   "id": "0329e9f5-0b7e-40a3-9dfc-f2178532b98c",
   "metadata": {},
   "outputs": [
    {
     "name": "stderr",
     "output_type": "stream",
     "text": [
      "Matplotlib created a temporary config/cache directory at /tmp/matplotlib-j3spei4z because the default path (/home/tany/.config/matplotlib) is not a writable directory; it is highly recommended to set the MPLCONFIGDIR environment variable to a writable directory, in particular to speed up the import of Matplotlib and to better support multiprocessing.\n",
      "Matplotlib is building the font cache; this may take a moment.\n"
     ]
    }
   ],
   "source": [
    "import matplotlib.pyplot as plt\n",
    "import mglearn\n",
    "import numpy as np"
   ]
  },
  {
   "cell_type": "code",
   "execution_count": 3,
   "id": "6da701a2-3f74-4bb4-b6c2-5c6b27b1b969",
   "metadata": {},
   "outputs": [],
   "source": [
    "# Importamos el dataset de las fotos\n",
    "from sklearn.datasets import fetch_olivetti_faces  \n",
    "people = fetch_olivetti_faces()"
   ]
  },
  {
   "cell_type": "code",
   "execution_count": 4,
   "id": "cea0781e-a3d2-4ba7-9a63-59073802f804",
   "metadata": {},
   "outputs": [],
   "source": [
    "mask = np.zeros(people.target.shape, dtype=np.bool_)\n",
    "for target in np.unique(people.target):\n",
    " mask[np.where(people.target == target)[0][:50]] = 1\n",
    "X_people = people.data[mask]\n",
    "y_people = people.target[mask]\n",
    "# Escalamos los valores de la escala de grises para estar entre 0 y 1 \n",
    "# en lugar de estar entre 0 y 255 para tener una mehor estabilidad numérica\n",
    "X_people = X_people / 255."
   ]
  },
  {
   "cell_type": "code",
   "execution_count": 5,
   "id": "e0955189-ee2f-4783-99fb-3f143f29afe1",
   "metadata": {},
   "outputs": [],
   "source": [
    "from sklearn.model_selection import train_test_split\n",
    "from sklearn.neighbors import KNeighborsClassifier\n",
    "# Dividimos entre datos de entrenamiento y de prueba\n",
    "X_train, X_test, y_train, y_test = train_test_split(X_people, y_people, stratify=y_people, random_state=0)"
   ]
  },
  {
   "cell_type": "code",
   "execution_count": 6,
   "id": "8014f484-362c-4fcd-95d1-85b2cc224ebb",
   "metadata": {},
   "outputs": [],
   "source": [
    "from sklearn.decomposition import PCA\n",
    "pca = PCA(n_components=20, whiten=True).fit(X_train)\n",
    "X_train_pca = pca.transform(X_train)\n",
    "X_test_pca = pca.transform(X_test)"
   ]
  },
  {
   "cell_type": "code",
   "execution_count": 7,
   "id": "4d149e61-4f75-4fb0-96bc-ed00a0bf349d",
   "metadata": {},
   "outputs": [
    {
     "data": {
      "text/plain": [
       "0.95"
      ]
     },
     "execution_count": 7,
     "metadata": {},
     "output_type": "execute_result"
    }
   ],
   "source": [
    "knn = KNeighborsClassifier(n_neighbors=1)\n",
    "knn.fit(X_train_pca, y_train)\n",
    "knn.score(X_test_pca, y_test)"
   ]
  },
  {
   "cell_type": "code",
   "execution_count": 8,
   "id": "48ceebdb-3aed-4e4a-86a6-49ca0039bbb7",
   "metadata": {},
   "outputs": [
    {
     "name": "stderr",
     "output_type": "stream",
     "text": [
      "/home/tany/anaconda3/lib/python3.8/site-packages/sklearn/decomposition/_nmf.py:312: FutureWarning: The 'init' value, when 'init=None' and n_components is less than n_samples and n_features, will be changed from 'nndsvd' to 'nndsvda' in 1.1 (renaming of 0.26).\n",
      "  warnings.warn((\"The 'init' value, when 'init=None' and \"\n",
      "/home/tany/anaconda3/lib/python3.8/site-packages/sklearn/decomposition/_nmf.py:1090: ConvergenceWarning: Maximum number of iterations 200 reached. Increase it to improve convergence.\n",
      "  warnings.warn(\"Maximum number of iterations %d reached. Increase it to\"\n"
     ]
    }
   ],
   "source": [
    "from sklearn.decomposition import NMF\n",
    "# Decimos cuantas componentes queremos y damos la semilla aleatoria\n",
    "nmf = NMF(n_components=20, random_state=0)\n",
    "# Decimos con respecto a que conjunto hacer el ajuste\n",
    "nmf.fit(X_train)\n",
    "# Transformamos los datos de entrenamiento y prueba\n",
    "X_train_nmf = nmf.transform(X_train)\n",
    "X_test_nmf = nmf.transform(X_test)"
   ]
  },
  {
   "cell_type": "code",
   "execution_count": 9,
   "id": "8c151aa0-8d54-4436-a5a7-35e02a66c95c",
   "metadata": {},
   "outputs": [
    {
     "data": {
      "text/plain": [
       "0.87"
      ]
     },
     "execution_count": 9,
     "metadata": {},
     "output_type": "execute_result"
    }
   ],
   "source": [
    "knn = KNeighborsClassifier(n_neighbors=1)\n",
    "knn.fit(X_train_nmf, y_train)\n",
    "knn.score(X_test_nmf, y_test)"
   ]
  }
 ],
 "metadata": {
  "kernelspec": {
   "display_name": "Python 3",
   "language": "python",
   "name": "python3"
  },
  "language_info": {
   "codemirror_mode": {
    "name": "ipython",
    "version": 3
   },
   "file_extension": ".py",
   "mimetype": "text/x-python",
   "name": "python",
   "nbconvert_exporter": "python",
   "pygments_lexer": "ipython3",
   "version": "3.8.8"
  }
 },
 "nbformat": 4,
 "nbformat_minor": 5
}
