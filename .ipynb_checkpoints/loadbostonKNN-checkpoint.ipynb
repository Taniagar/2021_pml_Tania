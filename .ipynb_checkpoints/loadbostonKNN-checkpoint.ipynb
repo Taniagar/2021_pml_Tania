{
 "cells": [
  {
   "cell_type": "code",
   "execution_count": 1,
   "id": "6b3f154b-8b0f-4dab-a36e-4c784ac24221",
   "metadata": {},
   "outputs": [
    {
     "name": "stdout",
     "output_type": "stream",
     "text": [
      "Data shape: (506, 13)\n"
     ]
    }
   ],
   "source": [
    "from sklearn.datasets import load_boston\n",
    "boston = load_boston()\n",
    "print(\"Data shape: {}\".format(boston.data.shape))"
   ]
  },
  {
   "cell_type": "code",
   "execution_count": 24,
   "id": "9f008730-984f-4cc5-a0d8-461d5760abe4",
   "metadata": {},
   "outputs": [
    {
     "name": "stdout",
     "output_type": "stream",
     "text": [
      "X.shape: (506, 104)\n"
     ]
    }
   ],
   "source": [
    "X, y = mglearn.datasets.load_extended_boston()\n",
    "print(\"X.shape: {}\".format(X.shape))"
   ]
  },
  {
   "cell_type": "code",
   "execution_count": 25,
   "id": "1465a3f7-d7b0-42e4-8297-9bf4d2fcb50d",
   "metadata": {},
   "outputs": [],
   "source": [
    "#X_train, X_test, y_train, y_test = train_test_split()\n",
    "#X, y = mglearn.datasets.make_forge()\n",
    "X_train, X_test, y_train, y_test = train_test_split(X, y, random_state=2)"
   ]
  },
  {
   "cell_type": "code",
   "execution_count": 34,
   "id": "82f6a67a-ccb6-47cc-839e-4044032cb445",
   "metadata": {},
   "outputs": [],
   "source": [
    "from sklearn.neighbors import KNeighborsRegressor\n",
    "reg = KNeighborsRegressor(n_neighbors=3)"
   ]
  },
  {
   "cell_type": "code",
   "execution_count": 35,
   "id": "56d381dc-9e56-4510-9ae1-bd95f3e7e696",
   "metadata": {},
   "outputs": [
    {
     "data": {
      "text/plain": [
       "KNeighborsRegressor(n_neighbors=3)"
      ]
     },
     "execution_count": 35,
     "metadata": {},
     "output_type": "execute_result"
    }
   ],
   "source": [
    "reg.fit(X_train, y_train)"
   ]
  },
  {
   "cell_type": "code",
   "execution_count": 36,
   "id": "02605f52-569c-4969-bc5d-ddce5f348b89",
   "metadata": {},
   "outputs": [
    {
     "name": "stdout",
     "output_type": "stream",
     "text": [
      "Test set predictions:\n",
      "[21.5        15.33333333 29.06666667 33.76666667 11.36666667 15.03333333\n",
      " 21.86666667 24.         12.56666667 19.43333333 28.1        23.06666667\n",
      " 22.2        24.1        12.83333333 22.33333333 20.33333333 10.43333333\n",
      "  8.56666667 15.53333333 20.76666667 20.1        35.96666667 18.53333333\n",
      " 14.03333333 22.8        38.53333333 29.23333333 24.1        21.93333333\n",
      " 18.63333333 20.76666667 29.5        25.2        10.56666667 15.43333333\n",
      " 10.16666667 28.2        23.03333333 20.96666667 23.96666667 13.43333333\n",
      " 31.          9.03333333 21.83333333 13.96666667 34.13333333 15.53333333\n",
      " 35.96666667 10.26666667 25.56666667 35.96666667  8.63333333 24.\n",
      " 16.26666667 18.36666667 19.06666667 18.76666667 17.13333333 22.8\n",
      " 23.13333333 20.3        18.83333333 28.56666667 24.         22.33333333\n",
      " 47.43333333 26.23333333 11.96666667 25.4        13.66666667 10.4\n",
      " 19.4        20.3        26.7        19.4        23.1        23.73333333\n",
      " 22.5        23.76666667 29.06666667 20.         24.53333333 24.73333333\n",
      " 45.5        35.96666667 17.86666667 25.76666667 26.63333333 21.2\n",
      " 22.16666667 19.36666667 10.23333333 44.06666667 39.8         8.56666667\n",
      " 33.3        32.53333333 20.86666667 17.33333333 27.56666667 23.26666667\n",
      " 21.36666667 23.36666667 22.5        32.         14.83333333 15.26666667\n",
      " 20.73333333 13.56666667 13.43333333 28.2        15.23333333 11.26666667\n",
      " 32.46666667 13.46666667 26.6        21.2        24.13333333 20.83333333\n",
      " 25.33333333 19.76666667 41.          9.33333333 33.6        26.53333333\n",
      " 17.6       ]\n"
     ]
    }
   ],
   "source": [
    "print(\"Test set predictions:\\n{}\".format(reg.predict(X_test)))"
   ]
  },
  {
   "cell_type": "code",
   "execution_count": 37,
   "id": "548851dd-ef65-4a23-b88c-a84a8785db95",
   "metadata": {},
   "outputs": [
    {
     "name": "stdout",
     "output_type": "stream",
     "text": [
      "Test set R^2: 0.68\n"
     ]
    }
   ],
   "source": [
    "print(\"Test set R^2: {:.2f}\".format(reg.score(X_test, y_test)))"
   ]
  }
 ],
 "metadata": {
  "kernelspec": {
   "display_name": "Python 3",
   "language": "python",
   "name": "python3"
  },
  "language_info": {
   "codemirror_mode": {
    "name": "ipython",
    "version": 3
   },
   "file_extension": ".py",
   "mimetype": "text/x-python",
   "name": "python",
   "nbconvert_exporter": "python",
   "pygments_lexer": "ipython3",
   "version": "3.8.8"
  }
 },
 "nbformat": 4,
 "nbformat_minor": 5
}
